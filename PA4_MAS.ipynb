{
 "cells": [
  {
   "cell_type": "markdown",
   "id": "3c80eb28",
   "metadata": {},
   "source": [
    "## Michael Staff\n",
    "## PA4\n",
    "## October 15, 2021"
   ]
  },
  {
   "cell_type": "code",
   "execution_count": 1,
   "id": "de34aec4",
   "metadata": {},
   "outputs": [],
   "source": [
    "import random\n",
    "numbers=[random.randrange(1,51) for i in range(10)]"
   ]
  },
  {
   "cell_type": "code",
   "execution_count": 2,
   "id": "f9ee5638",
   "metadata": {},
   "outputs": [
    {
     "data": {
      "text/plain": [
       "[20, 14, 37, 41, 31, 38, 12, 18, 10, 11]"
      ]
     },
     "execution_count": 2,
     "metadata": {},
     "output_type": "execute_result"
    }
   ],
   "source": [
    "numbers"
   ]
  },
  {
   "cell_type": "code",
   "execution_count": 3,
   "id": "f8c7010f",
   "metadata": {},
   "outputs": [],
   "source": [
    "numbers.append(53)"
   ]
  },
  {
   "cell_type": "code",
   "execution_count": 4,
   "id": "013cbc51",
   "metadata": {},
   "outputs": [
    {
     "data": {
      "text/plain": [
       "[20, 14, 37, 41, 31, 38, 12, 18, 10, 11, 53]"
      ]
     },
     "execution_count": 4,
     "metadata": {},
     "output_type": "execute_result"
    }
   ],
   "source": [
    "numbers"
   ]
  },
  {
   "cell_type": "code",
   "execution_count": 6,
   "id": "ac44b325",
   "metadata": {},
   "outputs": [],
   "source": [
    "numbers.extend([21,64,93])"
   ]
  },
  {
   "cell_type": "code",
   "execution_count": 7,
   "id": "862b62cf",
   "metadata": {},
   "outputs": [
    {
     "data": {
      "text/plain": [
       "[20, 14, 37, 41, 31, 38, 12, 18, 10, 11, 53, 21, 64, 93]"
      ]
     },
     "execution_count": 7,
     "metadata": {},
     "output_type": "execute_result"
    }
   ],
   "source": [
    "numbers"
   ]
  },
  {
   "cell_type": "code",
   "execution_count": 8,
   "id": "3d9eae9f",
   "metadata": {},
   "outputs": [],
   "source": [
    "numbers.insert(3,99)"
   ]
  },
  {
   "cell_type": "code",
   "execution_count": 9,
   "id": "70aeeb2f",
   "metadata": {},
   "outputs": [
    {
     "data": {
      "text/plain": [
       "[20, 14, 37, 99, 41, 31, 38, 12, 18, 10, 11, 53, 21, 64, 93]"
      ]
     },
     "execution_count": 9,
     "metadata": {},
     "output_type": "execute_result"
    }
   ],
   "source": [
    "numbers"
   ]
  },
  {
   "cell_type": "code",
   "execution_count": 10,
   "id": "b8c68d13",
   "metadata": {},
   "outputs": [],
   "source": [
    "numbers.remove(20)"
   ]
  },
  {
   "cell_type": "code",
   "execution_count": 11,
   "id": "fe9a7c72",
   "metadata": {},
   "outputs": [
    {
     "data": {
      "text/plain": [
       "[14, 37, 99, 41, 31, 38, 12, 18, 10, 11, 53, 21, 64, 93]"
      ]
     },
     "execution_count": 11,
     "metadata": {},
     "output_type": "execute_result"
    }
   ],
   "source": [
    "numbers"
   ]
  },
  {
   "cell_type": "code",
   "execution_count": 12,
   "id": "d10fda2c",
   "metadata": {},
   "outputs": [
    {
     "data": {
      "text/plain": [
       "0"
      ]
     },
     "execution_count": 12,
     "metadata": {},
     "output_type": "execute_result"
    }
   ],
   "source": [
    "numbers.count(5)"
   ]
  },
  {
   "cell_type": "code",
   "execution_count": 13,
   "id": "2930eced",
   "metadata": {},
   "outputs": [
    {
     "data": {
      "text/plain": [
       "6"
      ]
     },
     "execution_count": 13,
     "metadata": {},
     "output_type": "execute_result"
    }
   ],
   "source": [
    "numbers.index(12)"
   ]
  },
  {
   "cell_type": "code",
   "execution_count": 16,
   "id": "6ff5bd78",
   "metadata": {},
   "outputs": [
    {
     "data": {
      "text/plain": [
       "12"
      ]
     },
     "execution_count": 16,
     "metadata": {},
     "output_type": "execute_result"
    }
   ],
   "source": [
    "numbers.pop(5)"
   ]
  },
  {
   "cell_type": "code",
   "execution_count": 17,
   "id": "ae016918",
   "metadata": {},
   "outputs": [
    {
     "data": {
      "text/plain": [
       "[10, 11, 14, 18, 21, 31, 37, 41, 53, 64, 93, 99]"
      ]
     },
     "execution_count": 17,
     "metadata": {},
     "output_type": "execute_result"
    }
   ],
   "source": [
    "sorted(numbers)"
   ]
  },
  {
   "cell_type": "code",
   "execution_count": 18,
   "id": "3ae2d01b",
   "metadata": {},
   "outputs": [
    {
     "data": {
      "text/plain": [
       "[14, 37, 99, 41, 31, 18, 10, 11, 53, 21, 64, 93]"
      ]
     },
     "execution_count": 18,
     "metadata": {},
     "output_type": "execute_result"
    }
   ],
   "source": [
    "n2=numbers.copy()\n",
    "n2"
   ]
  },
  {
   "cell_type": "code",
   "execution_count": 20,
   "id": "5160b636",
   "metadata": {},
   "outputs": [],
   "source": [
    "n2.clear()"
   ]
  },
  {
   "cell_type": "code",
   "execution_count": 21,
   "id": "23a1cb06",
   "metadata": {},
   "outputs": [
    {
     "data": {
      "text/plain": [
       "[]"
      ]
     },
     "execution_count": 21,
     "metadata": {},
     "output_type": "execute_result"
    }
   ],
   "source": [
    "n2"
   ]
  },
  {
   "cell_type": "code",
   "execution_count": 22,
   "id": "5d647805",
   "metadata": {},
   "outputs": [
    {
     "data": {
      "text/plain": [
       "True"
      ]
     },
     "execution_count": 22,
     "metadata": {},
     "output_type": "execute_result"
    }
   ],
   "source": [
    "boolean=[True,True,False,True]\n",
    "any(boolean)"
   ]
  },
  {
   "cell_type": "code",
   "execution_count": 1,
   "id": "1b3bdde1",
   "metadata": {},
   "outputs": [
    {
     "data": {
      "text/plain": [
       "[('Michael', 'Staff', 1), ('Tom', 'Clarkson', 5), ('John', 'Ashley', 7)]"
      ]
     },
     "execution_count": 1,
     "metadata": {},
     "output_type": "execute_result"
    }
   ],
   "source": [
    "first_names = ['Michael','Tom','John']\n",
    "last_names = ['Staff','Clarkson','Ashley']\n",
    "serve_aces = [1,5,7]\n",
    "list(zip(first_names,last_names,serve_aces))"
   ]
  },
  {
   "cell_type": "code",
   "execution_count": 2,
   "id": "8ec9229f",
   "metadata": {},
   "outputs": [
    {
     "name": "stdout",
     "output_type": "stream",
     "text": [
      "[2, 4, 6, 8]\n"
     ]
    }
   ],
   "source": [
    "def addition(n):\n",
    "    return n + n\n",
    "  \n",
    "numbers = (1, 2, 3, 4)\n",
    "result = map(addition, numbers)\n",
    "print(list(result))"
   ]
  },
  {
   "cell_type": "code",
   "execution_count": 8,
   "id": "a64d5e6f",
   "metadata": {},
   "outputs": [
    {
     "ename": "NameError",
     "evalue": "name 'cmp' is not defined",
     "output_type": "error",
     "traceback": [
      "\u001b[0;31m---------------------------------------------------------------------------\u001b[0m",
      "\u001b[0;31mNameError\u001b[0m                                 Traceback (most recent call last)",
      "\u001b[0;32m<ipython-input-8-4583b3cbe119>\u001b[0m in \u001b[0;36m<module>\u001b[0;34m\u001b[0m\n\u001b[1;32m      1\u001b[0m \u001b[0mn\u001b[0m \u001b[0;34m=\u001b[0m \u001b[0;36m12\u001b[0m\u001b[0;34m\u001b[0m\u001b[0;34m\u001b[0m\u001b[0m\n\u001b[0;32m----> 2\u001b[0;31m \u001b[0;32mif\u001b[0m \u001b[0mcmp\u001b[0m\u001b[0;34m(\u001b[0m\u001b[0;36m0\u001b[0m\u001b[0;34m,\u001b[0m \u001b[0mn\u001b[0m \u001b[0;34m%\u001b[0m \u001b[0;36m2\u001b[0m\u001b[0;34m)\u001b[0m\u001b[0;34m:\u001b[0m\u001b[0;34m\u001b[0m\u001b[0;34m\u001b[0m\u001b[0m\n\u001b[0m\u001b[1;32m      3\u001b[0m     \u001b[0mprint\u001b[0m\u001b[0;34m(\u001b[0m\u001b[0;34m\"odd\"\u001b[0m\u001b[0;34m)\u001b[0m\u001b[0;34m\u001b[0m\u001b[0;34m\u001b[0m\u001b[0m\n\u001b[1;32m      4\u001b[0m \u001b[0;32melse\u001b[0m\u001b[0;34m:\u001b[0m\u001b[0;34m\u001b[0m\u001b[0;34m\u001b[0m\u001b[0m\n\u001b[1;32m      5\u001b[0m     \u001b[0mprint\u001b[0m\u001b[0;34m(\u001b[0m\u001b[0;34m\"even\"\u001b[0m\u001b[0;34m)\u001b[0m\u001b[0;34m\u001b[0m\u001b[0;34m\u001b[0m\u001b[0m\n",
      "\u001b[0;31mNameError\u001b[0m: name 'cmp' is not defined"
     ]
    }
   ],
   "source": [
    "n = 12 \n",
    "if cmp(0, n % 2):  \n",
    "    print(\"odd\")\n",
    "else: \n",
    "    print(\"even\") \n",
    "        \n",
    "# check 13     \n",
    "n = 13 \n",
    "if cmp(0, n % 2):  \n",
    "    print(\"odd\")\n",
    "else: \n",
    "    print(\"even\")"
   ]
  },
  {
   "cell_type": "code",
   "execution_count": 13,
   "id": "3cd5d1ac",
   "metadata": {},
   "outputs": [],
   "source": [
    "mylist = [\"grape\", \"apple\", \"pineapple\"]\n",
    "x = len(mylist)"
   ]
  },
  {
   "cell_type": "code",
   "execution_count": 14,
   "id": "0763bc5e",
   "metadata": {},
   "outputs": [
    {
     "data": {
      "text/plain": [
       "['grape', 'apple', 'pineapple']"
      ]
     },
     "execution_count": 14,
     "metadata": {},
     "output_type": "execute_result"
    }
   ],
   "source": [
    "mylist"
   ]
  },
  {
   "cell_type": "code",
   "execution_count": 17,
   "id": "2974eeaf",
   "metadata": {},
   "outputs": [],
   "source": [
    "x = max(10, 15)"
   ]
  },
  {
   "cell_type": "code",
   "execution_count": 18,
   "id": "ed715806",
   "metadata": {},
   "outputs": [
    {
     "data": {
      "text/plain": [
       "15"
      ]
     },
     "execution_count": 18,
     "metadata": {},
     "output_type": "execute_result"
    }
   ],
   "source": [
    "x"
   ]
  },
  {
   "cell_type": "code",
   "execution_count": 22,
   "id": "6146cbea",
   "metadata": {},
   "outputs": [
    {
     "name": "stdout",
     "output_type": "stream",
     "text": [
      "Tuple elements : \n"
     ]
    },
    {
     "data": {
      "text/plain": [
       "(None, (123, 'qrs', 'adam', 'lmn'))"
      ]
     },
     "execution_count": 22,
     "metadata": {},
     "output_type": "execute_result"
    }
   ],
   "source": [
    "aList = [123, 'qrs', 'adam', 'lmn']\n",
    "aTuple = tuple(aList)\n",
    "print (\"Tuple elements : \"), aTuple"
   ]
  },
  {
   "cell_type": "code",
   "execution_count": null,
   "id": "b828e3a7",
   "metadata": {},
   "outputs": [],
   "source": []
  }
 ],
 "metadata": {
  "kernelspec": {
   "display_name": "Python 3",
   "language": "python",
   "name": "python3"
  },
  "language_info": {
   "codemirror_mode": {
    "name": "ipython",
    "version": 3
   },
   "file_extension": ".py",
   "mimetype": "text/x-python",
   "name": "python",
   "nbconvert_exporter": "python",
   "pygments_lexer": "ipython3",
   "version": "3.8.8"
  }
 },
 "nbformat": 4,
 "nbformat_minor": 5
}
